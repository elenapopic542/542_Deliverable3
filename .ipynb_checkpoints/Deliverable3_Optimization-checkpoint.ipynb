{
 "cells": [
  {
   "cell_type": "markdown",
   "id": "3ac01b3c",
   "metadata": {},
   "source": [
    "PUBPOL 542"
   ]
  },
  {
   "cell_type": "markdown",
   "id": "8cebfdac",
   "metadata": {},
   "source": [
    "Deliverable 3: \"Solving optimization problems using Python\" "
   ]
  },
  {
   "cell_type": "markdown",
   "id": "aef64e30",
   "metadata": {},
   "source": [
    "Elena Popic"
   ]
  },
  {
   "cell_type": "markdown",
   "id": "36e390e0",
   "metadata": {},
   "source": [
    "This assignment focuses on solving an optimization problem published on https://www.coursehero.com/study-guides/sanjacinto-finitemath1/reading-solving-standard-maximization-problems-using-the-simplex-method/ \n",
    "\n",
    "(last accessed March 10, 2023)\n"
   ]
  },
  {
   "cell_type": "markdown",
   "id": "bfa059f7",
   "metadata": {},
   "source": [
    "The conditions of the optimization problem are the following:\n",
    "\n",
    "\"A new airline has decided to join the market. It is considering offering flights out of Phoenix, AZ, and would initially like to travel to three different locations: San Diego, San Francisco, and Las Vegas. The distances of each round-trip flight going out of Phoenix are (approximately): 720 miles, 1500 miles, and 1140 miles, respectively. The company would like to use the slogan, \"the average price per flight is never more than $200.\" As for costs, it anticipates flights to San Diego will run about 10 percent of airfare. Similarly, San Francisco will run 12 percent and Las Vegas will run 14 percent of airfare. The company wants to ensure that the overall average cost is no more than 10 percent of earned airfare. Recent market research allows the company to conclude that it could probably sell about 1900 San Diego tickets, 700 San Francisco tickets, and 1000 Las Vegas ticket. Under these conditions and assuming that all tickets sold are round-trip flights, how much should the company charge per ticket in order to maximize its total revenue?\""
   ]
  },
  {
   "cell_type": "code",
   "execution_count": 1,
   "id": "a1b7d063",
   "metadata": {},
   "outputs": [],
   "source": [
    "# Importing the necessary functions from the PuLP package:\n",
    "\n",
    "from pulp import LpMinimize\n",
    "from pulp import LpMaximize,LpProblem,LpVariable,LpConstraint, value\n",
    "from pulp import COIN_CMD\n",
    "from pulp import LpConstraintGE as GE\n",
    "from pulp import LpConstraintLE as LE"
   ]
  },
  {
   "cell_type": "code",
   "execution_count": 2,
   "id": "97d5aadf",
   "metadata": {},
   "outputs": [],
   "source": [
    "# Setting-up the model given the goal of the problem to maximize overall revenue:\n",
    "\n",
    "model = LpProblem(name='airline-problem', sense=LpMaximize)"
   ]
  },
  {
   "cell_type": "code",
   "execution_count": 3,
   "id": "df6269aa",
   "metadata": {},
   "outputs": [],
   "source": [
    "# Defining decision variables \n",
    "# (each of the three price variables is continuous and cannot be lower than 0):\n",
    "\n",
    "SDP = LpVariable(name=\"San_Diego_Price\", lowBound=0, cat='Continuous') \n",
    "SFP = LpVariable(name=\"San_Francisco_Price\", lowBound=0, cat='Continuous')\n",
    "LVP = LpVariable(name=\"Las_Vegas_Price\", lowBound=0, cat='Continuous')"
   ]
  },
  {
   "cell_type": "code",
   "execution_count": 4,
   "id": "b00829f3",
   "metadata": {},
   "outputs": [],
   "source": [
    "# Revenue is calculated as a sum of the products between the total number of tickets sold for each flight and the price charged for the respective flight. \n",
    "# Defining the objective function for our model based on the revenue equation:\n",
    "\n",
    "obj_func = 1900*SDP + 700*SFP + 1000*LVP "
   ]
  },
  {
   "cell_type": "code",
   "execution_count": 5,
   "id": "cf544880",
   "metadata": {},
   "outputs": [],
   "source": [
    "# Defining the constraints:\n",
    "\n",
    "C1 = LpConstraint(name=\"Price_Constraint\", e = SDP + SFP + LVP, sense=LE, rhs=600) \n",
    "C2 = LpConstraint(name=\"Cost_Constraint\", e = 14*SFP + 40*LVP, sense=LE, rhs=0) "
   ]
  },
  {
   "cell_type": "code",
   "execution_count": 6,
   "id": "7597f382",
   "metadata": {},
   "outputs": [],
   "source": [
    "# Adding the information on constraints and objective function to the model:\n",
    "\n",
    "model += obj_func\n",
    "model += C1\n",
    "model += C2\n",
    "\n",
    "# Solving the problem:\n",
    "\n",
    "solver = COIN_CMD(msg=False)\n",
    "result=model.solve(solver)"
   ]
  },
  {
   "cell_type": "code",
   "execution_count": 7,
   "id": "58668e2a",
   "metadata": {},
   "outputs": [
    {
     "name": "stdout",
     "output_type": "stream",
     "text": [
      "Optimal Result:\n",
      "Las_Vegas_Price = 0.0\n",
      "San_Diego_Price = 600.0\n",
      "San_Francisco_Price = 0.0\n"
     ]
    }
   ],
   "source": [
    "# Printing the optimal solution to the problem (i.e., the optimal prices to charge for each destination):\n",
    "\n",
    "print (\"Optimal Result:\")\n",
    "for variable in model.variables():\n",
    "    print (variable.name, \"=\", variable.varValue)"
   ]
  },
  {
   "cell_type": "code",
   "execution_count": 8,
   "id": "1e3ee2ab",
   "metadata": {},
   "outputs": [
    {
     "name": "stdout",
     "output_type": "stream",
     "text": [
      "Total maximum revenue:\n",
      "1140000.0\n"
     ]
    }
   ],
   "source": [
    "# Printing the total maximum revenue:\n",
    "\n",
    "print (\"Total maximum revenue:\")\n",
    "print (value(model.objective))"
   ]
  },
  {
   "cell_type": "code",
   "execution_count": 9,
   "id": "bb2b3de2",
   "metadata": {},
   "outputs": [
    {
     "name": "stdout",
     "output_type": "stream",
     "text": [
      "Slack/Surplus\n",
      "Price_Constraint:0.0\n",
      "Cost_Constraint:0.0\n"
     ]
    }
   ],
   "source": [
    "# Printing the slack/surplus values for each constraint in the optimization model to check if all constraints are satisfied:\n",
    "\n",
    "print (\"Slack/Surplus\")\n",
    "for name, constraint in model.constraints.items():\n",
    "    print(name + ':' + str(constraint.value()))"
   ]
  },
  {
   "cell_type": "markdown",
   "id": "3928958b",
   "metadata": {},
   "source": [
    "Based on the above output, the company can gain a maximum revenue of 1,140,000 USD by selling tickets to San Diego at the price of 600 USD per ticket. However, it has to be mentioned that this solution satisfies the average price constraint (i.e., no more than 200 USD per flight) only if the other two destinations are sold at a price of zero, which might not be a realistic scenario. "
   ]
  },
  {
   "cell_type": "markdown",
   "id": "4cf95c91",
   "metadata": {},
   "source": [
    "\n",
    "\n",
    "\n",
    "\n"
   ]
  }
 ],
 "metadata": {
  "kernelspec": {
   "display_name": "Python 3 (ipykernel)",
   "language": "python",
   "name": "python3"
  },
  "language_info": {
   "codemirror_mode": {
    "name": "ipython",
    "version": 3
   },
   "file_extension": ".py",
   "mimetype": "text/x-python",
   "name": "python",
   "nbconvert_exporter": "python",
   "pygments_lexer": "ipython3",
   "version": "3.10.8"
  }
 },
 "nbformat": 4,
 "nbformat_minor": 5
}
