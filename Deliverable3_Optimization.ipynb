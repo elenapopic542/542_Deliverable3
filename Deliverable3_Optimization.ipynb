{
 "cells": [
  {
   "cell_type": "markdown",
   "id": "3ac01b3c",
   "metadata": {},
   "source": [
    "PUBPOL 542"
   ]
  },
  {
   "cell_type": "markdown",
   "id": "8cebfdac",
   "metadata": {},
   "source": [
    "Deliverable 3: \"Solving optimization problems using Python\" "
   ]
  },
  {
   "cell_type": "markdown",
   "id": "aef64e30",
   "metadata": {},
   "source": [
    "Elena Popic"
   ]
  },
  {
   "cell_type": "markdown",
   "id": "36e390e0",
   "metadata": {},
   "source": [
    "This assignment focuses on solving an optimization problem published on https://www.coursehero.com/study-guides/sanjacinto-finitemath1/reading-solving-standard-maximization-problems-using-the-simplex-method/ \n",
    "\n",
    "(last accessed March 10, 2023)\n"
   ]
  },
  {
   "cell_type": "markdown",
   "id": "bfa059f7",
   "metadata": {},
   "source": [
    "The conditions of the optimization problem are the following:\n",
    "\n",
    "\"A new airline has decided to join the market. It is considering offering flights out of Phoenix, AZ, and would initially like to travel to three different locations: San Diego, San Francisco, and Las Vegas. The distances of each round-trip flight going out of Phoenix are (approximately): 720 miles, 1500 miles, and 1140 miles, respectively. The company would like to use the slogan, \"the average price per flight is never more than $200.\" As for costs, it anticipates flights to San Diego will run about 10 percent of airfare. Similarly, San Francisco will run 12 percent and Las Vegas will run 14 percent of airfare. The company wants to ensure that the overall average cost is no more than 10 percent of earned airfare. Recent market research allows the company to conclude that it could probably sell about 1900 San Diego tickets, 700 San Francisco tickets, and 1000 Las Vegas ticket. Under these conditions and assuming that all tickets sold are round-trip flights, how much should the company charge per ticket in order to maximize its total revenue?\""
   ]
  },
  {
   "cell_type": "code",
   "execution_count": 1,
   "id": "a1b7d063",
   "metadata": {},
   "outputs": [],
   "source": [
    "# Importing the necessary functions from the PuLP package:\n",
    "\n",
    "from pulp import LpMinimize\n",
    "from pulp import LpMaximize,LpProblem,LpVariable,LpConstraint, value\n",
    "from pulp import COIN_CMD\n",
    "from pulp import LpConstraintGE as GE\n",
    "from pulp import LpConstraintLE as LE"
   ]
  },
  {
   "cell_type": "code",
   "execution_count": 2,
   "id": "97d5aadf",
   "metadata": {},
   "outputs": [],
   "source": [
    "# Setting-up the model given the goal of the problem to maximize overall revenue:\n",
    "\n",
    "model = LpProblem(name='airline-problem', sense=LpMaximize)"
   ]
  },
  {
   "cell_type": "code",
   "execution_count": 3,
   "id": "df6269aa",
   "metadata": {},
   "outputs": [],
   "source": [
    "# Defining decision variables \n",
    "# (each of the three price variables is continuous and cannot be lower than 0):\n",
    "\n",
    "SDP = LpVariable(name=\"San_Diego_Price\", lowBound=0, cat='Continuous') \n",
    "SFP = LpVariable(name=\"San_Francisco_Price\", lowBound=0, cat='Continuous')\n",
    "LVP = LpVariable(name=\"Las_Vegas_Price\", lowBound=0, cat='Continuous')"
   ]
  },
  {
   "cell_type": "code",
   "execution_count": 4,
   "id": "b00829f3",
   "metadata": {},
   "outputs": [],
   "source": [
    "# Revenue is calculated as a sum of the products between the total number of tickets sold for each flight and the price charged for the respective flight. \n",
    "# Defining the objective function for our model based on the revenue equation:\n",
    "\n",
    "obj_func = 1900*SDP + 700*SFP + 1000*LVP "
   ]
  },
  {
   "cell_type": "code",
   "execution_count": 5,
   "id": "cf544880",
   "metadata": {},
   "outputs": [],
   "source": [
    "# Defining the constraints:\n",
    "\n",
    "# Version 1 (as stated in problem description)\n",
    "# Constraint 1: Average price (unweighted) is not higher than 200 USD. Below I use the reduced form of the equation: (SDP + SFP + LVP)/3<=200\n",
    "C1 = LpConstraint(name=\"Price_Constraint\", e = SDP + SFP + LVP, sense=LE, rhs=600) \n",
    "# Constraint 2: The overall average cost is no more than 10 percent of revenue (unweighted). Below I use the reduced form of the equation: 0.10*1900*SDP + 0.12*700*SFP + 0.14*1000*LVP <= 0.10(1900*SDP + 700*SFP + 1000*LVP), reduced to 190*SDP + 84*SFP + 140*LVP ≤ 190*SDP + 70*SFP + 100*LVP, and finally to 14*SFP + 40*LVP ≤ 0 \n",
    "C2 = LpConstraint(name=\"Cost_Constraint\", e = 14*SFP + 40*LVP, sense=LE, rhs=0) \n",
    "\n",
    "# Version 2 (weighted)\n",
    "# Constraint 1: Weighted average price is not higher than 200 USD. \n",
    "# Here, I use the expected value of the ticket price based on the proportion of tickets sold to each destination, as expressed in the following equation: EV(Price) = (1900*SDP + 700*SFP + 1000*LVP)/(1900 + 700 + 1000), EV(Price) <= 200, (1900*SDP + 700*SFP + 1000*LVP)/3600 <=200, 1900*SDP + 700*SFP + 1000*LVP <=720000     \n",
    "C1_1 = LpConstraint(name=\"Price_Constraint_1\", e = 1900*SDP + 700*SFP + 1000*LVP, sense=LE, rhs=720000) \n",
    "# Constraint 2: The overall weighted average cost is no more than 10 percent of revenue. Here, I use weights based on the mileage of each flight to reflect the reality that longer flights require higher costs. \n",
    "# The proportion between the flight mileage and overall mileage is 720/3360=0.21 for the San Diego flight, 1500/3360=0.45 for the San Francisco flight, and 1140/3360=0.34 for the Las Vegas flight; The constraint equation with weights is therefore: 0.10*1900*0.21*SDP + 0.12*700*0.45*SFP + 0.14*1000*0.34*LVP <= 0.10(1900*0.21*SDP + 700*0.45*SFP + 1000*0.14*LVP), 39.9*SDP + 37.8*SFP + 47.6*LVP <= 39.9*SDP + 31.5*SFP + 34*LVP, 6.3*SFP + 13.6*LVP <=0    \n",
    "C2_2 = LpConstraint(name=\"Cost_Constraint_2\", e = 6.3*SFP + 13.6*LVP, sense=LE, rhs=0) \n"
   ]
  },
  {
   "cell_type": "code",
   "execution_count": 6,
   "id": "7597f382",
   "metadata": {},
   "outputs": [],
   "source": [
    "# I start by determing solutions for the problem with constraints defined in Version 1 above:\n",
    "\n",
    "# Adding the information on constraints and objective function to the model:\n",
    "\n",
    "model += obj_func\n",
    "model += C1\n",
    "model += C2\n",
    "\n",
    "# Solving the problem:\n",
    "\n",
    "solver = COIN_CMD(msg=False)\n",
    "result=model.solve(solver)"
   ]
  },
  {
   "cell_type": "code",
   "execution_count": 7,
   "id": "58668e2a",
   "metadata": {},
   "outputs": [
    {
     "name": "stdout",
     "output_type": "stream",
     "text": [
      "Optimal Result:\n",
      "Las_Vegas_Price = 0.0\n",
      "San_Diego_Price = 600.0\n",
      "San_Francisco_Price = 0.0\n"
     ]
    }
   ],
   "source": [
    "# Printing the optimal solution to the problem (i.e., the optimal prices to charge for each destination):\n",
    "\n",
    "print (\"Optimal Result:\")\n",
    "for variable in model.variables():\n",
    "    print (variable.name, \"=\", variable.varValue)"
   ]
  },
  {
   "cell_type": "code",
   "execution_count": 8,
   "id": "1e3ee2ab",
   "metadata": {},
   "outputs": [
    {
     "name": "stdout",
     "output_type": "stream",
     "text": [
      "Total maximum revenue:\n",
      "1140000.0\n"
     ]
    }
   ],
   "source": [
    "# Printing the total maximum revenue:\n",
    "\n",
    "print (\"Total maximum revenue:\")\n",
    "print (value(model.objective))"
   ]
  },
  {
   "cell_type": "code",
   "execution_count": 9,
   "id": "bb2b3de2",
   "metadata": {
    "scrolled": true
   },
   "outputs": [
    {
     "name": "stdout",
     "output_type": "stream",
     "text": [
      "Slack/Surplus\n",
      "Price_Constraint:0.0\n",
      "Cost_Constraint:0.0\n"
     ]
    }
   ],
   "source": [
    "# Printing the slack/surplus values for each constraint in the optimization model to check if all constraints are satisfied:\n",
    "\n",
    "print (\"Slack/Surplus\")\n",
    "for name, constraint in model.constraints.items():\n",
    "    print(name + ':' + str(constraint.value()))"
   ]
  },
  {
   "cell_type": "markdown",
   "id": "3928958b",
   "metadata": {},
   "source": [
    "\n",
    "Based on the above output, the company can gain a maximum revenue of 1,140,000 USD by selling tickets to San Diego at the price of 600 USD per ticket. However, it has to be mentioned that this solution satisfies the average price constraint (i.e., no more than 200 USD per flight) only if the other two destinations are sold at a price of zero so that (600+0+0)/3=200, which is not a realistic scenario. In the following I use the adjusted constraints as defined in Version 2 above.\n"
   ]
  },
  {
   "cell_type": "code",
   "execution_count": 10,
   "id": "ec5c392a",
   "metadata": {},
   "outputs": [],
   "source": [
    "# Determing solutions for the problem with constraints defined in Version 2 above:\n",
    "\n",
    "#Setting-up a new model:\n",
    "\n",
    "model2 = LpProblem(name='airline-problem2', sense=LpMaximize)\n",
    "\n",
    "model2 += obj_func\n",
    "model2 += C1_1\n",
    "model2 += C2_2\n",
    "\n",
    "# Solving the problem:\n",
    "\n",
    "solver = COIN_CMD(msg=False)\n",
    "result=model2.solve(solver)\n"
   ]
  },
  {
   "cell_type": "code",
   "execution_count": 11,
   "id": "3628bb44",
   "metadata": {},
   "outputs": [
    {
     "name": "stdout",
     "output_type": "stream",
     "text": [
      "Optimal Result:\n",
      "Las_Vegas_Price = 0.0\n",
      "San_Diego_Price = 378.94737\n",
      "San_Francisco_Price = 0.0\n"
     ]
    }
   ],
   "source": [
    "# Printing the optimal solution to the problem (i.e., the optimal prices to charge for each destination):\n",
    "\n",
    "print (\"Optimal Result:\")\n",
    "for variable in model2.variables():\n",
    "    print (variable.name, \"=\", variable.varValue)"
   ]
  },
  {
   "cell_type": "code",
   "execution_count": 12,
   "id": "678f505a",
   "metadata": {},
   "outputs": [
    {
     "name": "stdout",
     "output_type": "stream",
     "text": [
      "Total maximum revenue:\n",
      "720000.0029999999\n"
     ]
    }
   ],
   "source": [
    "# Printing the total maximum revenue:\n",
    "\n",
    "print (\"Total maximum revenue:\")\n",
    "print (value(model2.objective))"
   ]
  },
  {
   "cell_type": "code",
   "execution_count": 13,
   "id": "7ec8a03e",
   "metadata": {},
   "outputs": [
    {
     "name": "stdout",
     "output_type": "stream",
     "text": [
      "Slack/Surplus\n",
      "Price_Constraint_1:0.0029999999096617103\n",
      "Cost_Constraint_2:0.0\n"
     ]
    }
   ],
   "source": [
    "# Printing the slack/surplus values for each constraint in the optimization model to check if all constraints are satisfied:\n",
    "\n",
    "print (\"Slack/Surplus\")\n",
    "for name, constraint in model2.constraints.items():\n",
    "    print(name + ':' + str(constraint.value()))"
   ]
  },
  {
   "cell_type": "markdown",
   "id": "7d2dada5",
   "metadata": {},
   "source": [
    "\n",
    "Based on the above output, the company can gain a maximum revenue of 720,000 USD by selling tickets to San Diego at the price of 378.9 USD per ticket. However, the solution is still based on the unrealistic scenario that two other flights are operated at the cost of 0 so that the average price constraint is satisfied at 200 USD with slack on the price constraint. In the following, we build a third model based on Version 1 of constraints with the added constraint that the ticket to San Diego cannot exceed 150 USD. \n"
   ]
  },
  {
   "cell_type": "code",
   "execution_count": 14,
   "id": "7c17dde0",
   "metadata": {},
   "outputs": [],
   "source": [
    "# Defining the additional constraint:\n",
    "\n",
    "C3 = LpConstraint(name=\"SD_Cost_Constraint\", e = SDP, sense=LE, rhs=150) "
   ]
  },
  {
   "cell_type": "code",
   "execution_count": 15,
   "id": "96795a29",
   "metadata": {},
   "outputs": [],
   "source": [
    "# Adding the information on the new constraint to the model that already features the constraints C1 and C2:\n",
    "\n",
    "model += C3\n",
    "\n",
    "# Solving the problem:\n",
    "\n",
    "solver = COIN_CMD(msg=False)\n",
    "result=model.solve(solver)"
   ]
  },
  {
   "cell_type": "code",
   "execution_count": 16,
   "id": "b3323da3",
   "metadata": {},
   "outputs": [
    {
     "name": "stdout",
     "output_type": "stream",
     "text": [
      "Optimal Result:\n",
      "Las_Vegas_Price = 0.0\n",
      "San_Diego_Price = 150.0\n",
      "San_Francisco_Price = 0.0\n"
     ]
    }
   ],
   "source": [
    "# Printing the optimal solution to the problem (i.e., the optimal prices to charge for each destination):\n",
    "\n",
    "print (\"Optimal Result:\")\n",
    "for variable in model.variables():\n",
    "    print (variable.name, \"=\", variable.varValue)"
   ]
  },
  {
   "cell_type": "code",
   "execution_count": 17,
   "id": "ed6f62bb",
   "metadata": {},
   "outputs": [
    {
     "name": "stdout",
     "output_type": "stream",
     "text": [
      "Total maximum revenue:\n",
      "285000.0\n"
     ]
    }
   ],
   "source": [
    "# Printing the total maximum revenue:\n",
    "\n",
    "print (\"Total maximum revenue:\")\n",
    "print (value(model.objective))"
   ]
  },
  {
   "cell_type": "code",
   "execution_count": 18,
   "id": "bb063660",
   "metadata": {},
   "outputs": [
    {
     "name": "stdout",
     "output_type": "stream",
     "text": [
      "Slack/Surplus\n",
      "Price_Constraint:-450.0\n",
      "Cost_Constraint:0.0\n",
      "SD_Cost_Constraint:0.0\n"
     ]
    }
   ],
   "source": [
    "# Printing the slack/surplus values for each constraint in the optimization model to check if all constraints are satisfied:\n",
    "\n",
    "print (\"Slack/Surplus\")\n",
    "for name, constraint in model.constraints.items():\n",
    "    print(name + ':' + str(constraint.value()))"
   ]
  },
  {
   "cell_type": "markdown",
   "id": "b88f455b",
   "metadata": {},
   "source": [
    "\n",
    "Based on the above output, the company can gain a maximum revenue of 285,000 USD by selling tickets to San Diego at the price of 150 USD per ticket. However, the solution is still based on the unrealistic scenario that two other flights are operated at no cost with slack on the average price constraint. \n",
    "\n",
    "To achieve more realistic solutions, the problem would benefit from specifying additional conditions related to average cost composition. Otherwise, the current version expresses the average cost constraint only in terms of revenue which in turn is based on price, so the model optimized by setting two of the input prices to zero.\n"
   ]
  },
  {
   "cell_type": "markdown",
   "id": "4cf95c91",
   "metadata": {},
   "source": [
    "\n",
    "\n",
    "\n",
    "\n"
   ]
  }
 ],
 "metadata": {
  "kernelspec": {
   "display_name": "Python 3 (ipykernel)",
   "language": "python",
   "name": "python3"
  },
  "language_info": {
   "codemirror_mode": {
    "name": "ipython",
    "version": 3
   },
   "file_extension": ".py",
   "mimetype": "text/x-python",
   "name": "python",
   "nbconvert_exporter": "python",
   "pygments_lexer": "ipython3",
   "version": "3.10.8"
  }
 },
 "nbformat": 4,
 "nbformat_minor": 5
}
