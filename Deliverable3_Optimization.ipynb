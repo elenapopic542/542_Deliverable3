{
 "cells": [
  {
   "cell_type": "markdown",
   "id": "3ac01b3c",
   "metadata": {},
   "source": [
    "PUBPOL 542"
   ]
  },
  {
   "cell_type": "markdown",
   "id": "8cebfdac",
   "metadata": {},
   "source": [
    "Deliverable 3"
   ]
  },
  {
   "cell_type": "markdown",
   "id": "aef64e30",
   "metadata": {},
   "source": [
    "Elena Popic"
   ]
  },
  {
   "cell_type": "markdown",
   "id": "36e390e0",
   "metadata": {},
   "source": [
    "## Part 1: \"Solving optimization problems using Python\" \n",
    "\n",
    "This part of the assignment focuses on solving an optimization problem published on https://www.coursehero.com/study-guides/sanjacinto-finitemath1/reading-solving-standard-maximization-problems-using-the-simplex-method/ \n",
    "\n",
    "(last accessed March 10, 2023)\n"
   ]
  },
  {
   "cell_type": "markdown",
   "id": "bfa059f7",
   "metadata": {},
   "source": [
    "The conditions of the optimization problem are the following:\n",
    "\n",
    "\"A new airline has decided to join the market. It is considering offering flights out of Phoenix, AZ, and would initially like to travel to three different locations: San Diego, San Francisco, and Las Vegas. The distances of each round-trip flight going out of Phoenix are (approximately): 720 miles, 1500 miles, and 1140 miles, respectively. The company would like to use the slogan, \"the average price per flight is never more than $200.\" As for costs, it anticipates flights to San Diego will run about 10 percent of airfare. Similarly, San Francisco will run 12 percent and Las Vegas will run 14 percent of airfare. The company wants to ensure that the overall average cost is no more than 10 percent of earned airfare. Recent market research allows the company to conclude that it could probably sell about 1900 San Diego tickets, 700 San Francisco tickets, and 1000 Las Vegas ticket. Under these conditions and assuming that all tickets sold are round-trip flights, how much should the company charge per ticket in order to maximize its total revenue?\""
   ]
  },
  {
   "cell_type": "code",
   "execution_count": 1,
   "id": "a1b7d063",
   "metadata": {},
   "outputs": [],
   "source": [
    "# Importing the necessary functions from the PuLP package:\n",
    "\n",
    "from pulp import LpMinimize\n",
    "from pulp import LpMaximize,LpProblem,LpVariable,LpConstraint, value\n",
    "from pulp import COIN_CMD\n",
    "from pulp import LpConstraintGE as GE\n",
    "from pulp import LpConstraintLE as LE\n",
    "from pulp import LpConstraintLE as EQ"
   ]
  },
  {
   "cell_type": "code",
   "execution_count": 2,
   "id": "97d5aadf",
   "metadata": {},
   "outputs": [],
   "source": [
    "# Setting-up the model given the goal of the problem to maximize overall revenue:\n",
    "\n",
    "model = LpProblem(name='airline-problem', sense=LpMaximize)"
   ]
  },
  {
   "cell_type": "code",
   "execution_count": 3,
   "id": "df6269aa",
   "metadata": {},
   "outputs": [],
   "source": [
    "# Defining decision variables \n",
    "# (each of the three price variables is continuous and cannot be lower than 0):\n",
    "\n",
    "SDP = LpVariable(name=\"San_Diego_Price\", lowBound=0, cat='Continuous') \n",
    "SFP = LpVariable(name=\"San_Francisco_Price\", lowBound=0, cat='Continuous')\n",
    "LVP = LpVariable(name=\"Las_Vegas_Price\", lowBound=0, cat='Continuous')"
   ]
  },
  {
   "cell_type": "code",
   "execution_count": 4,
   "id": "b00829f3",
   "metadata": {},
   "outputs": [],
   "source": [
    "# Revenue is calculated as a sum of the products between the total number of tickets sold for each flight and the price charged for the respective flight. \n",
    "# Defining the objective function for our model based on the revenue equation:\n",
    "\n",
    "obj_func = 1900*SDP + 700*SFP + 1000*LVP "
   ]
  },
  {
   "cell_type": "code",
   "execution_count": 5,
   "id": "cf544880",
   "metadata": {},
   "outputs": [],
   "source": [
    "# Defining the constraints:\n",
    "\n",
    "# Constraint 1: Average price is not higher than 200 USD. Below I use the reduced form of the equation: (SDP + SFP + LVP)/3<=200\n",
    "C1 = LpConstraint(name=\"Price_Constraint\", e = SDP + SFP + LVP, sense=LE, rhs=600) \n",
    "# Constraint 2: The overall average cost is no more than 10 percent of revenue \n",
    "# as expressed by the equation: 0.10*1900*SDP + 0.12*700*SFP + 0.14*1000*LVP <= 0.10(1900*SDP + 700*SFP + 1000*LVP), \n",
    "# reduced to 190*SDP + 84*SFP + 140*LVP ≤ 190*SDP + 70*SFP + 100*LVP, and finally to 14*SFP + 40*LVP ≤ 0 \n",
    "C2 = LpConstraint(name=\"Cost_Constraint\", e = 14*SFP + 40*LVP, sense=LE, rhs=0) \n"
   ]
  },
  {
   "cell_type": "code",
   "execution_count": 6,
   "id": "7597f382",
   "metadata": {},
   "outputs": [],
   "source": [
    "# Adding the information on constraints and objective function to the model:\n",
    "\n",
    "model += obj_func\n",
    "model += C1\n",
    "model += C2\n",
    "\n",
    "# Solving the problem:\n",
    "\n",
    "solver = COIN_CMD(msg=False)\n",
    "result = model.solve(solver)"
   ]
  },
  {
   "cell_type": "code",
   "execution_count": 7,
   "id": "58668e2a",
   "metadata": {},
   "outputs": [
    {
     "name": "stdout",
     "output_type": "stream",
     "text": [
      "Optimal Result:\n",
      "Las_Vegas_Price = 0.0\n",
      "San_Diego_Price = 600.0\n",
      "San_Francisco_Price = 0.0\n"
     ]
    }
   ],
   "source": [
    "# Printing the optimal solution to the problem (i.e., the optimal prices to charge for each destination):\n",
    "\n",
    "print (\"Optimal Result:\")\n",
    "for variable in model.variables():\n",
    "    print (variable.name, \"=\", variable.varValue)"
   ]
  },
  {
   "cell_type": "code",
   "execution_count": 8,
   "id": "1e3ee2ab",
   "metadata": {},
   "outputs": [
    {
     "name": "stdout",
     "output_type": "stream",
     "text": [
      "Total maximum revenue:\n",
      "1140000.0\n"
     ]
    }
   ],
   "source": [
    "# Printing the total maximum revenue:\n",
    "\n",
    "print (\"Total maximum revenue:\")\n",
    "print (value(model.objective))"
   ]
  },
  {
   "cell_type": "code",
   "execution_count": 9,
   "id": "bb2b3de2",
   "metadata": {
    "scrolled": false
   },
   "outputs": [
    {
     "name": "stdout",
     "output_type": "stream",
     "text": [
      "Slack/Surplus\n",
      "Price_Constraint:0.0\n",
      "Cost_Constraint:0.0\n"
     ]
    }
   ],
   "source": [
    "# Printing the slack/surplus values for each constraint in the optimization model to check if all constraints are satisfied:\n",
    "\n",
    "print (\"Slack/Surplus\")\n",
    "for name, constraint in model.constraints.items():\n",
    "    print(name + ':' + str(constraint.value()))"
   ]
  },
  {
   "cell_type": "markdown",
   "id": "3928958b",
   "metadata": {},
   "source": [
    "\n",
    "\n",
    "Based on the above output, the company can gain a maximum revenue of 1,140,000 USD by selling tickets to San Diego at the price of 600 USD per ticket. \n",
    "\n",
    "However, it has to be mentioned that this solution satisfies the average price constraint (i.e., no more than 200 USD per flight) only if the other two destinations are operated at a price of zero so that (600+0+0)/3=200, which is not a realistic scenario. \n",
    "\n",
    "The current problem conditions express the average cost only in terms of revenue which in turn is based on price, so in the absence of other details the model optimizes the cost by setting two of the input prices to zero. \n",
    "\n",
    "In the below lines of code, I create a new model based on the original problem with adjusted and additional constraints to the following ends:\n",
    "\n",
    "a) adjust the cost constraint to 14% of revenue as opposed to the original 10%, since only the San Diego flight's cost is defined at 10% of airfare, while the cost for the other two flights are defined at 12% and 14% of airfare, which given the constraint that \"overall average cost is no more than 10 percent of earned airfare\" might explain the above solution generated by the algorithm to charge only on the San Diego flight. \n",
    "b) equalize cost per mile across flights using the data on flight mileage from the original problem.\n"
   ]
  },
  {
   "cell_type": "code",
   "execution_count": 10,
   "id": "b011b835",
   "metadata": {},
   "outputs": [],
   "source": [
    "# Adjusted constraints:\n",
    "# The overall average cost is no more than 14 percent of revenue:\n",
    "C2_2 = LpConstraint(name=\"Cost_Constraint_2\", e = 76*SDP + 14*SFP, sense=GE, rhs=0)\n",
    "# The next set of constraints use the data on mileage and set the cost per mile to be equal across flights: 0.10*SDP/720=0.12*SFP/1500=0.14*LVP/1140 \n",
    "C3 = LpConstraint(name=\"CostperMile_Constraint_3\", e = 150*SDP - 86.4*SFP, sense=EQ, rhs=0)\n",
    "C4 = LpConstraint(name=\"CostperMile_Constraint_4\", e = 114*SDP - 100.8*LVP, sense=EQ, rhs=0)\n",
    "C5 = LpConstraint(name=\"CostperMile_Constraint_5\", e = 136.8*SFP - 210*LVP, sense=EQ, rhs=0)"
   ]
  },
  {
   "cell_type": "code",
   "execution_count": 11,
   "id": "ec5c392a",
   "metadata": {},
   "outputs": [],
   "source": [
    "# Determing solutions for the problem with adjusted constraints defined above:\n",
    "\n",
    "#Setting-up the new model and adding information on adjusted constraints:\n",
    "\n",
    "model2 = LpProblem(name='airline-problem2', sense=LpMaximize)\n",
    "model2 += obj_func #same objective function as in the first model\n",
    "model2 += C1 #same average price constraint as in the first model\n",
    "model2 += C2_2 #adjusted average cost constraint\n",
    "model2 += C3\n",
    "model2 += C4\n",
    "model2 += C5\n",
    "\n",
    "# Solving the problem:\n",
    "\n",
    "solver = COIN_CMD(msg=False)\n",
    "result = model2.solve(solver)\n"
   ]
  },
  {
   "cell_type": "code",
   "execution_count": 12,
   "id": "3628bb44",
   "metadata": {},
   "outputs": [
    {
     "name": "stdout",
     "output_type": "stream",
     "text": [
      "Optimal Result:\n",
      "Las_Vegas_Price = 175.4746\n",
      "San_Diego_Price = 155.15649\n",
      "San_Francisco_Price = 269.36891\n"
     ]
    }
   ],
   "source": [
    "# Printing the optimal solution to the problem (i.e., the optimal prices to charge for each destination):\n",
    "\n",
    "print (\"Optimal Result:\")\n",
    "for variable in model2.variables():\n",
    "    print (variable.name, \"=\", variable.varValue)"
   ]
  },
  {
   "cell_type": "code",
   "execution_count": 13,
   "id": "db204b05",
   "metadata": {},
   "outputs": [
    {
     "name": "stdout",
     "output_type": "stream",
     "text": [
      "Total maximum revenue:\n",
      "658830.1680000001\n"
     ]
    }
   ],
   "source": [
    "# Printing the total maximum revenue:\n",
    "\n",
    "print (\"Total maximum revenue:\")\n",
    "print (value(model2.objective))"
   ]
  },
  {
   "cell_type": "code",
   "execution_count": 14,
   "id": "fd19cc62",
   "metadata": {},
   "outputs": [
    {
     "name": "stdout",
     "output_type": "stream",
     "text": [
      "Slack/Surplus\n",
      "Price_Constraint:0.0\n",
      "Cost_Constraint_2:15563.05798\n",
      "CostperMile_Constraint_3:-0.0003240000041841995\n",
      "CostperMile_Constraint_4:0.00017999999909079634\n",
      "CostperMile_Constraint_5:0.000888000002305489\n"
     ]
    }
   ],
   "source": [
    "# Printing the slack/surplus values for each constraint in the optimization model to check if all constraints are satisfied:\n",
    "\n",
    "print (\"Slack/Surplus\")\n",
    "for name, constraint in model2.constraints.items():\n",
    "    print(name + ':' + str(constraint.value()))"
   ]
  },
  {
   "cell_type": "markdown",
   "id": "f88ed21b",
   "metadata": {},
   "source": [
    "Based on the above output for the second model, the company can gain a maximum revenue of 658,830 USD by selling tickets to Las Vegas at the price of 175 USD, San Diego at 155 USD, and San Francisco at 269 USD per ticket. However, it is to be noted that this output violates the average cost constraint by 15563, while fully complying with the average price constraint.\n"
   ]
  },
  {
   "cell_type": "markdown",
   "id": "ae61d4ea",
   "metadata": {},
   "source": [
    "## Part 2: \"Social simulation\"\n",
    "\n",
    "The following section codes the game \"ROCK PAPER SCISSORS SPOCK LIZARD\", and models random player/agent behavior to examine overall outcomes of the simulation. \n"
   ]
  },
  {
   "cell_type": "code",
   "execution_count": 84,
   "id": "9d81b941",
   "metadata": {},
   "outputs": [],
   "source": [
    "# Defining the strategies of the game:\n",
    "\n",
    "strategies=['Rock','Paper','Scissors', 'Spock', 'Lizard']"
   ]
  },
  {
   "cell_type": "code",
   "execution_count": 85,
   "id": "7b22b7c4",
   "metadata": {},
   "outputs": [],
   "source": [
    "# Defining the pay-off for each combination of strategies:\n",
    "\n",
    "payoff={('Scissors','Paper'):(1,0),\n",
    "        ('Paper','Scissors'):(0,1),\n",
    "        ('Paper','Rock'):(1,0),\n",
    "        ('Rock','Paper'):(0,1),\n",
    "        ('Rock','Lizard'):(1,0),\n",
    "        ('Lizard','Rock'):(0,1),\n",
    "        ('Lizard','Spock'):(1,0),\n",
    "        ('Spock','Lizard'):(0,1),\n",
    "        ('Spock','Scissors'):(1,0),\n",
    "        ('Scissors','Spock'):(0,1),\n",
    "        ('Scissors','Lizard'):(1,0),\n",
    "        ('Lizard','Scissors'):(0,1),\n",
    "        ('Lizard','Paper'):(1,0),\n",
    "        ('Paper','Lizard'):(0,1),\n",
    "        ('Paper','Spock'):(1,0),\n",
    "        ('Spock','Paper'):(0,1),\n",
    "        ('Rock','Paper'):(0,1),\n",
    "        ('Spock','Rock'):(1,0),\n",
    "        ('Rock','Spock'):(0,1),\n",
    "        ('Rock', 'Scissors'):(1,0),\n",
    "        ('Scissors', 'Rock'):(0,1),\n",
    "        ('Scissors', 'Scissors'):(0,0),\n",
    "        ('Paper', 'Paper'):(0,0),\n",
    "        ('Rock', 'Rock'):(0,0),\n",
    "        ('Lizard', 'Lizard'):(0,0),\n",
    "        ('Spock', 'Spock'):(0,0)}"
   ]
  },
  {
   "cell_type": "code",
   "execution_count": 86,
   "id": "fd749a85",
   "metadata": {},
   "outputs": [],
   "source": [
    "# Creating players/agents and their strategies:\n",
    "\n",
    "Players=[{'name':'Galileo','score':0,'strategy':None},\n",
    "         {'name':'Giordano','score':0,'strategy':None}]\n"
   ]
  },
  {
   "cell_type": "code",
   "execution_count": 87,
   "id": "20f927d6",
   "metadata": {},
   "outputs": [
    {
     "data": {
      "text/plain": [
       "'Rock'"
      ]
     },
     "execution_count": 87,
     "metadata": {},
     "output_type": "execute_result"
    }
   ],
   "source": [
    "# Importing the choice function from the random module:\n",
    "from random import choice\n",
    "\n",
    "# Modeling random behavior - randomly selecting one of the elements in the strategies list:\n",
    "choice(strategies)"
   ]
  },
  {
   "cell_type": "code",
   "execution_count": 88,
   "id": "0b8b531c",
   "metadata": {},
   "outputs": [],
   "source": [
    "# Modeling a game with random selection of strategy by each player:\n",
    "\n",
    "Players[0]['strategy']=choice(strategies)\n",
    "Players[1]['strategy']=choice(strategies)"
   ]
  },
  {
   "cell_type": "code",
   "execution_count": 89,
   "id": "2e54833a",
   "metadata": {},
   "outputs": [
    {
     "data": {
      "text/plain": [
       "[{'name': 'Galileo', 'score': 0, 'strategy': 'Rock'},\n",
       " {'name': 'Giordano', 'score': 0, 'strategy': 'Paper'}]"
      ]
     },
     "execution_count": 89,
     "metadata": {},
     "output_type": "execute_result"
    }
   ],
   "source": [
    "# Examining the elements in the players' dictionaries to see their score and strategy:\n",
    "\n",
    "Players"
   ]
  },
  {
   "cell_type": "code",
   "execution_count": 90,
   "id": "0b4e4d4d",
   "metadata": {},
   "outputs": [
    {
     "data": {
      "text/plain": [
       "('Rock', 'Paper')"
      ]
     },
     "execution_count": 90,
     "metadata": {},
     "output_type": "execute_result"
    }
   ],
   "source": [
    "Players[0]['strategy'],Players[1]['strategy']"
   ]
  },
  {
   "cell_type": "code",
   "execution_count": 91,
   "id": "58998684",
   "metadata": {},
   "outputs": [
    {
     "data": {
      "text/plain": [
       "(0, 1)"
      ]
     },
     "execution_count": 91,
     "metadata": {},
     "output_type": "execute_result"
    }
   ],
   "source": [
    "# Retrieving the sequence of payoffs corresponding to the strategies selected by players/agents:\n",
    "\n",
    "result = payoff[Players[0]['strategy'],Players[1]['strategy']]\n",
    "result"
   ]
  },
  {
   "cell_type": "code",
   "execution_count": 92,
   "id": "5948fa84",
   "metadata": {},
   "outputs": [],
   "source": [
    "# Updating the scores of each player based on their payoff obtained from playing:\n",
    "\n",
    "Players[0]['score']+=result[0]\n",
    "Players[1]['score']+=result[1]"
   ]
  },
  {
   "cell_type": "code",
   "execution_count": 93,
   "id": "d4e195a6",
   "metadata": {},
   "outputs": [
    {
     "data": {
      "text/plain": [
       "[{'name': 'Galileo', 'score': 0, 'strategy': 'Rock'},\n",
       " {'name': 'Giordano', 'score': 1, 'strategy': 'Paper'}]"
      ]
     },
     "execution_count": 93,
     "metadata": {},
     "output_type": "execute_result"
    }
   ],
   "source": [
    "# Summarizing the current players scores:\n",
    "\n",
    "Players"
   ]
  },
  {
   "cell_type": "code",
   "execution_count": 94,
   "id": "685fde80",
   "metadata": {},
   "outputs": [
    {
     "data": {
      "text/html": [
       "<div>\n",
       "<style scoped>\n",
       "    .dataframe tbody tr th:only-of-type {\n",
       "        vertical-align: middle;\n",
       "    }\n",
       "\n",
       "    .dataframe tbody tr th {\n",
       "        vertical-align: top;\n",
       "    }\n",
       "\n",
       "    .dataframe thead th {\n",
       "        text-align: right;\n",
       "    }\n",
       "</style>\n",
       "<table border=\"1\" class=\"dataframe\">\n",
       "  <thead>\n",
       "    <tr style=\"text-align: right;\">\n",
       "      <th></th>\n",
       "      <th>name</th>\n",
       "      <th>score</th>\n",
       "      <th>strategy</th>\n",
       "    </tr>\n",
       "  </thead>\n",
       "  <tbody>\n",
       "    <tr>\n",
       "      <th>0</th>\n",
       "      <td>Galileo</td>\n",
       "      <td>0</td>\n",
       "      <td>Rock</td>\n",
       "    </tr>\n",
       "    <tr>\n",
       "      <th>1</th>\n",
       "      <td>Giordano</td>\n",
       "      <td>1</td>\n",
       "      <td>Paper</td>\n",
       "    </tr>\n",
       "  </tbody>\n",
       "</table>\n",
       "</div>"
      ],
      "text/plain": [
       "       name  score strategy\n",
       "0   Galileo      0     Rock\n",
       "1  Giordano      1    Paper"
      ]
     },
     "execution_count": 94,
     "metadata": {},
     "output_type": "execute_result"
    }
   ],
   "source": [
    "# Importing pandas to work with dataframes: \n",
    "\n",
    "import pandas as pd \n",
    "\n",
    "# Creating a dataframe to store the scores and the strategies of players:\n",
    "\n",
    "socialResults=pd.DataFrame((Players[0], Players[1]))\n",
    "socialResults\n"
   ]
  },
  {
   "cell_type": "code",
   "execution_count": 95,
   "id": "6671910c",
   "metadata": {},
   "outputs": [
    {
     "data": {
      "text/html": [
       "<div>\n",
       "<style scoped>\n",
       "    .dataframe tbody tr th:only-of-type {\n",
       "        vertical-align: middle;\n",
       "    }\n",
       "\n",
       "    .dataframe tbody tr th {\n",
       "        vertical-align: top;\n",
       "    }\n",
       "\n",
       "    .dataframe thead th {\n",
       "        text-align: right;\n",
       "    }\n",
       "</style>\n",
       "<table border=\"1\" class=\"dataframe\">\n",
       "  <thead>\n",
       "    <tr style=\"text-align: right;\">\n",
       "      <th></th>\n",
       "      <th>name</th>\n",
       "      <th>score</th>\n",
       "      <th>strategy</th>\n",
       "    </tr>\n",
       "  </thead>\n",
       "  <tbody>\n",
       "    <tr>\n",
       "      <th>1</th>\n",
       "      <td>Giordano</td>\n",
       "      <td>1</td>\n",
       "      <td>Paper</td>\n",
       "    </tr>\n",
       "  </tbody>\n",
       "</table>\n",
       "</div>"
      ],
      "text/plain": [
       "       name  score strategy\n",
       "1  Giordano      1    Paper"
      ]
     },
     "execution_count": 95,
     "metadata": {},
     "output_type": "execute_result"
    }
   ],
   "source": [
    "# Creating a variable to store the highest score:\n",
    "winnerScore=socialResults.score.max()\n",
    "\n",
    "# Including only the rows where the score column is equal to winnerScore:\n",
    "socialResults[socialResults.score==winnerScore]"
   ]
  },
  {
   "cell_type": "code",
   "execution_count": 96,
   "id": "1a9c8c0e",
   "metadata": {},
   "outputs": [],
   "source": [
    "# Creating a list with more player names for the game:\n",
    "\n",
    "names=['Amadeus','Ludwig','Frederic','Antonio']"
   ]
  },
  {
   "cell_type": "code",
   "execution_count": 97,
   "id": "02af8441",
   "metadata": {},
   "outputs": [],
   "source": [
    "# Setting-up a list of dictionaries for each player name in the above list:\n",
    "\n",
    "society=[{'name':n,'score':0,'strategy':None} for n in names]"
   ]
  },
  {
   "cell_type": "code",
   "execution_count": 98,
   "id": "e109b7ea",
   "metadata": {},
   "outputs": [
    {
     "name": "stdout",
     "output_type": "stream",
     "text": [
      "({'name': 'Amadeus', 'score': 0, 'strategy': None}, {'name': 'Ludwig', 'score': 0, 'strategy': None})\n",
      "({'name': 'Amadeus', 'score': 0, 'strategy': None}, {'name': 'Frederic', 'score': 0, 'strategy': None})\n",
      "({'name': 'Amadeus', 'score': 0, 'strategy': None}, {'name': 'Antonio', 'score': 0, 'strategy': None})\n",
      "({'name': 'Ludwig', 'score': 0, 'strategy': None}, {'name': 'Frederic', 'score': 0, 'strategy': None})\n",
      "({'name': 'Ludwig', 'score': 0, 'strategy': None}, {'name': 'Antonio', 'score': 0, 'strategy': None})\n",
      "({'name': 'Frederic', 'score': 0, 'strategy': None}, {'name': 'Antonio', 'score': 0, 'strategy': None})\n"
     ]
    }
   ],
   "source": [
    "# Importing the itertools module:\n",
    "\n",
    "import itertools \n",
    "\n",
    "# Using the combinations method to generate all possible unique pairs of elements in the society list:\n",
    "\n",
    "for pair in itertools.combinations(society,2):\n",
    "    \n",
    "# Printing the pairs of combinations:\n",
    "\n",
    "    print(pair)"
   ]
  },
  {
   "cell_type": "code",
   "execution_count": 99,
   "id": "33491ca2",
   "metadata": {},
   "outputs": [
    {
     "name": "stdout",
     "output_type": "stream",
     "text": [
      "{'name': 'Amadeus', 'score': 0, 'strategy': None} {'name': 'Ludwig', 'score': 0, 'strategy': None}\n",
      "{'name': 'Amadeus', 'score': 0, 'strategy': None} {'name': 'Frederic', 'score': 0, 'strategy': None}\n",
      "{'name': 'Amadeus', 'score': 0, 'strategy': None} {'name': 'Antonio', 'score': 0, 'strategy': None}\n",
      "{'name': 'Ludwig', 'score': 0, 'strategy': None} {'name': 'Frederic', 'score': 0, 'strategy': None}\n",
      "{'name': 'Ludwig', 'score': 0, 'strategy': None} {'name': 'Antonio', 'score': 0, 'strategy': None}\n",
      "{'name': 'Frederic', 'score': 0, 'strategy': None} {'name': 'Antonio', 'score': 0, 'strategy': None}\n"
     ]
    }
   ],
   "source": [
    "# Assigning each pair of combinations to the variables player1 and player2:\n",
    "\n",
    "for player1,player2 in itertools.combinations(society,2):\n",
    "    print(player1,player2)"
   ]
  },
  {
   "cell_type": "code",
   "execution_count": 100,
   "id": "02667f0e",
   "metadata": {},
   "outputs": [],
   "source": [
    "# Resetting the society list which contains dictionaries for each player:\n",
    "\n",
    "society=[{'name':n,'score':0,'strategy':None} for n in names]\n",
    "\n",
    "# Setting-up a loop to play 100 iterations where each player randomly choses a strategy,\n",
    "# and the score is updated based on the results of each round:\n",
    "\n",
    "for aRound in range(100):     \n",
    "    for player1,player2 in itertools.combinations(society,2):\n",
    "        player1['strategy']=choice(strategies)\n",
    "        player2['strategy']=choice(strategies)\n",
    "        result=payoff[player1['strategy'],player2['strategy']]\n",
    "        player1['score']+=result[0]\n",
    "        player2['score']+=result[1]\n"
   ]
  },
  {
   "cell_type": "code",
   "execution_count": 101,
   "id": "cbce4aea",
   "metadata": {},
   "outputs": [
    {
     "data": {
      "text/plain": [
       "[{'name': 'Amadeus', 'score': 125, 'strategy': 'Scissors'},\n",
       " {'name': 'Ludwig', 'score': 113, 'strategy': 'Spock'},\n",
       " {'name': 'Frederic', 'score': 99, 'strategy': 'Paper'},\n",
       " {'name': 'Antonio', 'score': 128, 'strategy': 'Spock'}]"
      ]
     },
     "execution_count": 101,
     "metadata": {},
     "output_type": "execute_result"
    }
   ],
   "source": [
    "# Examining the final state of the simulation by looking at the contents of the society list, \n",
    "# which contains updated dictionaries for each player with their final scores and strategies:\n",
    "\n",
    "society"
   ]
  },
  {
   "cell_type": "code",
   "execution_count": 102,
   "id": "a9fb33bf",
   "metadata": {},
   "outputs": [
    {
     "data": {
      "text/html": [
       "<div>\n",
       "<style scoped>\n",
       "    .dataframe tbody tr th:only-of-type {\n",
       "        vertical-align: middle;\n",
       "    }\n",
       "\n",
       "    .dataframe tbody tr th {\n",
       "        vertical-align: top;\n",
       "    }\n",
       "\n",
       "    .dataframe thead th {\n",
       "        text-align: right;\n",
       "    }\n",
       "</style>\n",
       "<table border=\"1\" class=\"dataframe\">\n",
       "  <thead>\n",
       "    <tr style=\"text-align: right;\">\n",
       "      <th></th>\n",
       "      <th>name</th>\n",
       "      <th>score</th>\n",
       "      <th>strategy</th>\n",
       "    </tr>\n",
       "  </thead>\n",
       "  <tbody>\n",
       "    <tr>\n",
       "      <th>0</th>\n",
       "      <td>Amadeus</td>\n",
       "      <td>125</td>\n",
       "      <td>Scissors</td>\n",
       "    </tr>\n",
       "    <tr>\n",
       "      <th>1</th>\n",
       "      <td>Ludwig</td>\n",
       "      <td>113</td>\n",
       "      <td>Spock</td>\n",
       "    </tr>\n",
       "    <tr>\n",
       "      <th>2</th>\n",
       "      <td>Frederic</td>\n",
       "      <td>99</td>\n",
       "      <td>Paper</td>\n",
       "    </tr>\n",
       "    <tr>\n",
       "      <th>3</th>\n",
       "      <td>Antonio</td>\n",
       "      <td>128</td>\n",
       "      <td>Spock</td>\n",
       "    </tr>\n",
       "  </tbody>\n",
       "</table>\n",
       "</div>"
      ],
      "text/plain": [
       "       name  score  strategy\n",
       "0   Amadeus    125  Scissors\n",
       "1    Ludwig    113     Spock\n",
       "2  Frederic     99     Paper\n",
       "3   Antonio    128     Spock"
      ]
     },
     "execution_count": 102,
     "metadata": {},
     "output_type": "execute_result"
    }
   ],
   "source": [
    "# Converting the society list of dictionaries into a Pandas pandas dataframe:\n",
    "\n",
    "socialResults=pd.DataFrame(society)\n",
    "socialResults\n"
   ]
  },
  {
   "cell_type": "code",
   "execution_count": 103,
   "id": "bae13aaf",
   "metadata": {},
   "outputs": [
    {
     "data": {
      "text/html": [
       "<div>\n",
       "<style scoped>\n",
       "    .dataframe tbody tr th:only-of-type {\n",
       "        vertical-align: middle;\n",
       "    }\n",
       "\n",
       "    .dataframe tbody tr th {\n",
       "        vertical-align: top;\n",
       "    }\n",
       "\n",
       "    .dataframe thead th {\n",
       "        text-align: right;\n",
       "    }\n",
       "</style>\n",
       "<table border=\"1\" class=\"dataframe\">\n",
       "  <thead>\n",
       "    <tr style=\"text-align: right;\">\n",
       "      <th></th>\n",
       "      <th>name</th>\n",
       "      <th>score</th>\n",
       "      <th>strategy</th>\n",
       "    </tr>\n",
       "  </thead>\n",
       "  <tbody>\n",
       "    <tr>\n",
       "      <th>3</th>\n",
       "      <td>Antonio</td>\n",
       "      <td>128</td>\n",
       "      <td>Spock</td>\n",
       "    </tr>\n",
       "  </tbody>\n",
       "</table>\n",
       "</div>"
      ],
      "text/plain": [
       "      name  score strategy\n",
       "3  Antonio    128    Spock"
      ]
     },
     "execution_count": 103,
     "metadata": {},
     "output_type": "execute_result"
    }
   ],
   "source": [
    "# Creating a variable to store the highest score:\n",
    "\n",
    "winnerScore=socialResults.score.max()\n",
    "\n",
    "# Including only the rows where the score column is equal to winnerScore:\n",
    "\n",
    "socialResults[socialResults.score==winnerScore]"
   ]
  },
  {
   "cell_type": "markdown",
   "id": "a3a7815b",
   "metadata": {},
   "source": [
    "The final results of the simulation point out that, in this particular game, Antonio who chose the \"Spock\" strategy ended up to be the most successful with the highest score of 128 points, while Frederic playing the \"Paper\" strategy was the least gainful with 99 points. \n",
    "\n",
    "In the following, I'm determining the average score of the players who chose \"Spock\"  to see the overall performance of this strategy:"
   ]
  },
  {
   "cell_type": "code",
   "execution_count": 104,
   "id": "f1f7249c",
   "metadata": {},
   "outputs": [
    {
     "name": "stdout",
     "output_type": "stream",
     "text": [
      "Average score of players who chose \"Spock\": 120.5\n"
     ]
    }
   ],
   "source": [
    "# Filtering the dataframe to only include rows with the \"Spock\" strategy:\n",
    "\n",
    "spock_df = socialResults[socialResults['strategy'] == 'Spock']\n",
    "\n",
    "# Calculating the average score of the players - Ludwig and Antonio - who chose \"Spock\":\n",
    "avg_score_spock = spock_df['score'].mean()\n",
    "\n",
    "# Printing the result:\n",
    "print('Average score of players who chose \"Spock\":', avg_score_spock)"
   ]
  },
  {
   "cell_type": "markdown",
   "id": "b88f455b",
   "metadata": {},
   "source": []
  },
  {
   "cell_type": "markdown",
   "id": "4cf95c91",
   "metadata": {},
   "source": [
    "\n",
    "\n",
    "\n",
    "\n"
   ]
  }
 ],
 "metadata": {
  "kernelspec": {
   "display_name": "Python 3 (ipykernel)",
   "language": "python",
   "name": "python3"
  },
  "language_info": {
   "codemirror_mode": {
    "name": "ipython",
    "version": 3
   },
   "file_extension": ".py",
   "mimetype": "text/x-python",
   "name": "python",
   "nbconvert_exporter": "python",
   "pygments_lexer": "ipython3",
   "version": "3.10.8"
  }
 },
 "nbformat": 4,
 "nbformat_minor": 5
}
